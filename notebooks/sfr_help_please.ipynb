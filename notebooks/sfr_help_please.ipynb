{
 "cells": [
  {
   "cell_type": "code",
   "execution_count": 2,
   "id": "74c6d1c8-b638-462e-aa8e-441b3a1e808d",
   "metadata": {},
   "outputs": [],
   "source": [
    "from astropy.cosmology import FlatLambdaCDM\n",
    "import astropy.units as u\n",
    "import numpy as np\n",
    "import matplotlib.pyplot as plt\n",
    "import pandas as pd\n",
    "from astropy.io import ascii\n",
    "from astropy import constants as const"
   ]
  },
  {
   "cell_type": "markdown",
   "id": "c8e3021c-739c-4dd5-960e-00699d626bd3",
   "metadata": {},
   "source": [
    "## Trying to Replicate SFR values listed in Terrazas et al 2017 \n",
    "https://ui.adsabs.harvard.edu/abs/2017ApJ...844..170T/abstract\n",
    "\n",
    "Following methodology presented in the paper as I understand it "
   ]
  },
  {
   "cell_type": "code",
   "execution_count": null,
   "id": "87b8fb97-0cbb-41c6-aec4-dc500938096b",
   "metadata": {},
   "outputs": [],
   "source": [
    "#Setting the model so that we can use it to calculate the luminosity distance \n",
    "    # H0=Hubble constant at z = 0. If a float, must be in [km/sec/Mpc].\n",
    "    # Om0 = Omega matter: density of non-relativistic matter in units of the critical density at z=0.\n",
    "    # Tcmb0 = Temperature of the CMB z=0. If a float, must be in [K]. Default: 0 [K].\n",
    "cosmo = FlatLambdaCDM(H0=70 * u.km / u.s / u.Mpc, Tcmb0=2.725 * u.K, Om0=0.3)\n",
    "\n",
    "c = const.c\n",
    "c"
   ]
  },
  {
   "cell_type": "markdown",
   "id": "757973fc-dea6-4b61-a631-b5fe22d86cb5",
   "metadata": {},
   "source": [
    "From reading both the Terrazas et al 2017 and the Terrazas et al 2016b paper (https://ui.adsabs.harvard.edu/abs/2016ApJ...830L..12T/abstract), I believe this is the procees to obtain SFRs in the same manner: \n",
    "- Use FIR flux from IRAS (Bell et al 2003 used 60 and 100 micron to estimate the FIR flux) \n",
    "- Estimate the TIR flux via TIR = 2*FIR (sum of 60 and 100 micron)\n",
    "- Use Equation 12 of Kennicutt and Evans (2012) {https://www.annualreviews.org/doi/pdf/10.1146/annurev-astro-081811-125610 page 27}: \n",
    "    - logSFR(Mdot/yr) = logLTIR(erg/s) - logCx where logCx is 43.41 \n",
    "\n",
    "As a test to make sure that I was replicating the correct methodology, I used NGC 4258 as my test galaxy where I am hoping to get a logSFR of -0.080"
   ]
  },
  {
   "cell_type": "code",
   "execution_count": null,
   "id": "a5c04e2b-9339-4c9a-bd12-998605003d0c",
   "metadata": {},
   "outputs": [],
   "source": [
    "#First I pull the IRAS flux density values (Jy) for 60 and 100 microns from NED \n",
    "    #https://ned.ipac.caltech.edu/byname?objname=ngc+4258&hconst=67.8&omegam=0.308&omegav=0.692&wmap=4&corr_z=1\n",
    "\n",
    "#flux density (wrote out Janskys)\n",
    "fd_60 = 21.6  \n",
    "print('flux density for 60 microns [Jy]:', fd_60)\n",
    "\n",
    "fd_100 = 78.39 \n",
    "print('flux density for 100 microns [Jy]:', fd_100)"
   ]
  },
  {
   "cell_type": "code",
   "execution_count": null,
   "id": "8ad1cdb6-d6a4-409d-a124-1edd36fc0f95",
   "metadata": {},
   "outputs": [],
   "source": [
    "#Because these are flux densities I thought the first step would be to get them into fluxes which is the process described here \n",
    "\n",
    "#Frequency observations taken at 60 microns\n",
    "freq_60 = 5e12 * u.Hz  \n",
    "print('Freqency of 60 microns:', freq_60)\n",
    "\n",
    "#Frequency observations taken at 100 microns \n",
    "freq_100 = 3e12 * u.Hz \n",
    "print('Freqency of 100 microns:', freq_100)\n",
    "\n",
    "################################################\n",
    "\n",
    "#Calculating the wavelength from the freq and putting into angstroms \n",
    "\n",
    "#60 microns\n",
    "wav_60 = c/freq_60\n",
    "wav_60 = wav_60.to(u.Angstrom)\n",
    "print(\"Wavlength in Anstroms:\", wav_60)\n",
    "\n",
    "#100 microns\n",
    "wav_100 = c/freq_100\n",
    "wav_100 = wav_100.to(u.Angstrom)\n",
    "print(\"Wavlength in Anstroms:\", wav_100)"
   ]
  },
  {
   "cell_type": "code",
   "execution_count": null,
   "id": "aae9ba62-7a36-4cb0-a17a-c06ab89c4c4e",
   "metadata": {},
   "outputs": [],
   "source": [
    "# I then use a conversion equation to get a flux density but in units that includes angstroms so that I can divide out\n",
    "    #the angstrom dependence later to get the flux \n",
    "\n",
    "#Formula comes from here: https://www.stsci.edu/~strolger/docs/UNITS.txt\n",
    "    # (Y erg/cm^2/s/A) = 2.99792458E-05 *(X1 Jy) / (X2 A)^2\n",
    "    #Where X1 is your flux density in Jy and X2 is the frequency in Hz of the bandpass converted to a wavelength in Angstroms.\n",
    "\n",
    "\n",
    "fdA_60 = (2.99792458e-5 * ((fd_60)/(599584.9159999999)**2)) * (u.erg/(u.cm**2 * u.s *u.Angstrom))\n",
    "print(fdA_60)\n",
    "\n",
    "fdA_100 = (2.99792458e-5 * ((fd_100)/(999308.1933333331)**2)) * (u.erg/(u.cm**2 * u.s *u.Angstrom))\n",
    "print(fdA_100)"
   ]
  },
  {
   "cell_type": "code",
   "execution_count": null,
   "id": "26b34720-7bde-4dcc-b975-d2a3c1296d68",
   "metadata": {},
   "outputs": [],
   "source": [
    "#To get it in units of FLUX I have to mutiply by the wavelength\n",
    "\n",
    "FIR_60 = fdA_60 * wav_60 \n",
    "print('FLUX of 60',FIR_60)\n",
    "\n",
    "FIR_100 = fdA_100 * wav_100\n",
    "print('FLUX of 100', FIR_100)"
   ]
  },
  {
   "cell_type": "code",
   "execution_count": null,
   "id": "09927602-24a7-41e7-a305-ed182ee30412",
   "metadata": {},
   "outputs": [],
   "source": [
    "#Now I need to get the sum flux or FIR and then the TIR using the equation presented in Terrazas et al 2016b \n",
    "\n",
    "#From the paper it says that the summed the flux for IRAS \n",
    "FIR = FIR_60 + FIR_100\n",
    "\n",
    "TIR = 2 * FIR\n",
    "print('Total Infrared Flux:', TIR)"
   ]
  },
  {
   "cell_type": "code",
   "execution_count": null,
   "id": "55b03ab1-4101-4759-81e1-1a5ce3dbf749",
   "metadata": {},
   "outputs": [],
   "source": [
    "#I figured that I would need to use the luminosity distance rather than just the normal distance so I calculated that using cosmo \n",
    "\n",
    "d_lum = cosmo.luminosity_distance(0.001494) #using the redshift and then putting into cm \n",
    "d_lum = d_lum.to(u.cm)\n",
    "\n",
    "print(\"Luminosity Distance:\", d_lum)\n"
   ]
  },
  {
   "cell_type": "code",
   "execution_count": null,
   "id": "62c1a3a5-c70e-4232-a8d4-5519d6463fd1",
   "metadata": {},
   "outputs": [],
   "source": [
    "#Now I can calculate the Luminosity which should come out to be in units of (u.erg/u.s) which is what is needed for the \n",
    "    #Kennicutt and Evans equation \n",
    "\n",
    "L = 4*np.pi*TIR*d_lum**2 #* (u.erg/u.s)\n",
    "print(L)"
   ]
  },
  {
   "cell_type": "code",
   "execution_count": null,
   "id": "5e97a9a5-819d-48e4-99e9-b1c0775aff91",
   "metadata": {},
   "outputs": [],
   "source": [
    "#Putting that calculated luminosity into the equation \n",
    "\n",
    "log10SFR_TIR = np.log10(3.3697777532746364e+43) - 43.41\n",
    "print('My found logSFR for NGC 4258:', log10SFR_TIR)\n",
    "\n",
    "#Seeing what the not logged version is \n",
    "print('Unlogged SFR:', 10**0.117)"
   ]
  },
  {
   "cell_type": "code",
   "execution_count": null,
   "id": "730d47e0-fb0d-427a-8447-a874b593d846",
   "metadata": {},
   "outputs": [],
   "source": [
    "#Comparing to what I was supposed to get\n",
    "\n",
    "print('logSFR (Mdot/yr): -0.08')\n",
    "print('Unlogged SFR:', 10**-0.08)"
   ]
  },
  {
   "cell_type": "markdown",
   "id": "a8c1ee8b-932e-4dc8-92bd-b5ba5f444233",
   "metadata": {},
   "source": [
    "### Since there was this disconnect, Jess and I went to Bell et al 2003 and used the equations presented there to see if they were similar \n",
    "https://ui.adsabs.harvard.edu/abs/2003ApJ...586..794B/abstract"
   ]
  },
  {
   "cell_type": "code",
   "execution_count": null,
   "id": "76e13deb-1068-480f-87b9-7d1cfa641ab4",
   "metadata": {},
   "outputs": [],
   "source": [
    "#flux density (wrote out Janskys)\n",
    "fd_60 = 21.6 *  u.Jy\n",
    "print('flux density for 60 microns:', fd_60)\n",
    "\n",
    "fd_100 = 78.39 * u.Jy \n",
    "print('flux density for 100 microns:', fd_100)"
   ]
  },
  {
   "cell_type": "code",
   "execution_count": null,
   "id": "c584c4ec-43c4-47af-afa0-d1cda12d4838",
   "metadata": {},
   "outputs": [],
   "source": [
    "fd_60_watt = fd_60.to(u.Watt/(u.m**2 * u.Hz))\n",
    "print('Flux density of 60 microns in Watts:', fd_60_watt) \n",
    "\n",
    "fd_100_watt = fd_100.to(u.Watt/(u.m**2 * u.Hz))\n",
    "print('Flux density of 60 microns in Watts:', fd_100_watt) "
   ]
  },
  {
   "cell_type": "code",
   "execution_count": null,
   "id": "431ff287-cffc-4f4f-8505-ad39f2c4ed85",
   "metadata": {},
   "outputs": [],
   "source": [
    "#To make the units work out need to put the luminosity distance in untis of meters \n",
    "\n",
    "d_lum = cosmo.luminosity_distance(0.001494) #using the redshift and then putting into cm \n",
    "d_lum = d_lum.to(u.m)\n",
    "d_lum"
   ]
  },
  {
   "cell_type": "code",
   "execution_count": null,
   "id": "67cd454e-fea8-4745-8c28-2a1ada306882",
   "metadata": {},
   "outputs": [],
   "source": [
    "#Now want to calculate the Luminosity and to make sure that the units work out, need to multiply the fd by the frequency \n",
    "\n",
    "L_60 = ((fd_60_watt)*freq_60)*4*np.pi* d_lum**2\n",
    "L_100 = ((fd_100_watt)*freq_100)*4*np.pi* d_lum**2\n",
    "\n",
    "print('Luminoity of 60 microns:', L_60)\n",
    "print('Luminosity of 100 microns', L_100)"
   ]
  },
  {
   "cell_type": "code",
   "execution_count": null,
   "id": "d65d203f-1148-4d77-aa9b-e99949e6d727",
   "metadata": {},
   "outputs": [],
   "source": [
    "#Checking to see if these values of luminosity are similar to the presented values in Bell et al 2003 (Table A1) \n",
    "    #Note, in this paper it looks like TIR refers to luminosities while in the Terrazas papers they use TIR to mean flux \n",
    "    \n",
    "print(np.log10(5.302561374153637e+35))\n",
    "print(np.log10(1.1546327392219544e+36))"
   ]
  },
  {
   "cell_type": "code",
   "execution_count": null,
   "id": "0b7fa953-a9de-46ea-84f8-8f4011dfe06e",
   "metadata": {},
   "outputs": [],
   "source": [
    "#The values are similar to the ones presented in the table so we move on to summing th luminosities for LTIR \n",
    "\n",
    "TIR = (L_100 + L_60)\n",
    "TIR"
   ]
  },
  {
   "cell_type": "code",
   "execution_count": null,
   "id": "aa165f1e-9174-4202-9c24-6146a5284fbe",
   "metadata": {},
   "outputs": [],
   "source": [
    "#Need to get the Solar LTIR as needed for using equation 4 in Bell et al 2003 \n",
    "\n",
    "L_TIR_solar = TIR/(3.9e26 *u.Watt)\n",
    "L_TIR_solar"
   ]
  },
  {
   "cell_type": "code",
   "execution_count": null,
   "id": "6e51a3d5-a2db-4558-843e-28b24980dc30",
   "metadata": {},
   "outputs": [],
   "source": [
    "#Now calculating the SFR using said equation 4 from Bell et al 2003 \n",
    "SFR = (1.72e-10*L_TIR_solar) * (1+ np.sqrt(10**9/L_TIR_solar))\n",
    "SFR"
   ]
  },
  {
   "cell_type": "code",
   "execution_count": null,
   "id": "942c7e16-be5e-4d42-9ac6-6e28c82d189e",
   "metadata": {},
   "outputs": [],
   "source": [
    "np.log10(SFR)"
   ]
  },
  {
   "cell_type": "markdown",
   "id": "d4a67574-7ce0-4ba6-b7f8-dd0f8777c2ef",
   "metadata": {},
   "source": [
    "So these are closer to my values and there is still a disconnect with the value for the published SFR value for NGC4258\n",
    "\n",
    "Is there maybe an upper limit ratio that I am missing or maybe I am not understanding the methodology correctly? Any help/advice you could provide would be greatly appreciated! Thanks! "
   ]
  },
  {
   "cell_type": "markdown",
   "id": "3a492b8e-9f22-4dfd-96aa-7215b2814ad1",
   "metadata": {},
   "source": [
    "# Help from Bryan - This method works for recreating his published values\n",
    "\n",
    "Need to make sure that we are taking into account the correct distance \n",
    "\n",
    "Also, you're setting FIR = f_60 + f_100, when the relation should be a little different. Instead of adding the two fluxes to get the total FIR, you'll want to approximate the area under the SED (i.e., the total flux) given the value of the SED at 2 particular wavelengths (in this case 60+100 micron) to get the total FIR flux. This of course assumes a shape for the SED, but it's a rough approximation! My PhD advisor, Eric Bell, has already done that approximation and I use that relation from Bell et al. (2003), pg 17, eqn A1. Here's my code for converting fluxes to SFR:"
   ]
  },
  {
   "cell_type": "code",
   "execution_count": 3,
   "id": "c3a5f008-7067-43dc-890a-8b294e8f5df7",
   "metadata": {},
   "outputs": [
    {
     "data": {
      "text/html": [
       "<div>\n",
       "<style scoped>\n",
       "    .dataframe tbody tr th:only-of-type {\n",
       "        vertical-align: middle;\n",
       "    }\n",
       "\n",
       "    .dataframe tbody tr th {\n",
       "        vertical-align: top;\n",
       "    }\n",
       "\n",
       "    .dataframe thead th {\n",
       "        text-align: right;\n",
       "    }\n",
       "</style>\n",
       "<table border=\"1\" class=\"dataframe\">\n",
       "  <thead>\n",
       "    <tr style=\"text-align: right;\">\n",
       "      <th></th>\n",
       "      <th>SFR_[log10mdot/yr]</th>\n",
       "      <th>Distance_[Mpc]</th>\n",
       "      <th>IRAS_60_micron_[Jy]</th>\n",
       "      <th>IRAS_100_micron_[Jy]</th>\n",
       "    </tr>\n",
       "  </thead>\n",
       "  <tbody>\n",
       "    <tr>\n",
       "      <th>0</th>\n",
       "      <td>-0.080</td>\n",
       "      <td>7.27</td>\n",
       "      <td>21.60</td>\n",
       "      <td>78.39</td>\n",
       "    </tr>\n",
       "    <tr>\n",
       "      <th>1</th>\n",
       "      <td>-0.080</td>\n",
       "      <td>7.27</td>\n",
       "      <td>21.60</td>\n",
       "      <td>78.39</td>\n",
       "    </tr>\n",
       "    <tr>\n",
       "      <th>2</th>\n",
       "      <td>-0.061</td>\n",
       "      <td>5.00</td>\n",
       "      <td>62.41</td>\n",
       "      <td>135.34</td>\n",
       "    </tr>\n",
       "    <tr>\n",
       "      <th>3</th>\n",
       "      <td>-1.047</td>\n",
       "      <td>25.20</td>\n",
       "      <td>0.25</td>\n",
       "      <td>0.56</td>\n",
       "    </tr>\n",
       "    <tr>\n",
       "      <th>4</th>\n",
       "      <td>0.536</td>\n",
       "      <td>10.05</td>\n",
       "      <td>56.31</td>\n",
       "      <td>144.96</td>\n",
       "    </tr>\n",
       "    <tr>\n",
       "      <th>5</th>\n",
       "      <td>0.766</td>\n",
       "      <td>14.50</td>\n",
       "      <td>46.73</td>\n",
       "      <td>116.34</td>\n",
       "    </tr>\n",
       "  </tbody>\n",
       "</table>\n",
       "</div>"
      ],
      "text/plain": [
       "   SFR_[log10mdot/yr]  Distance_[Mpc]  IRAS_60_micron_[Jy]  \\\n",
       "0              -0.080            7.27                21.60   \n",
       "1              -0.080            7.27                21.60   \n",
       "2              -0.061            5.00                62.41   \n",
       "3              -1.047           25.20                 0.25   \n",
       "4               0.536           10.05                56.31   \n",
       "5               0.766           14.50                46.73   \n",
       "\n",
       "   IRAS_100_micron_[Jy]  \n",
       "0                 78.39  \n",
       "1                 78.39  \n",
       "2                135.34  \n",
       "3                  0.56  \n",
       "4                144.96  \n",
       "5                116.34  "
      ]
     },
     "execution_count": 3,
     "metadata": {},
     "output_type": "execute_result"
    }
   ],
   "source": [
    "# I want to make arrays with all the information for Terrazas 2017 galaxies \n",
    "\n",
    "terrazas_2017_sfr = pd.read_csv('/Users/samgarza/Documents/COS-Holes/notebooks/terrazas_2017_sfr.csv')\n",
    "terrazas_2017_sfr"
   ]
  },
  {
   "cell_type": "code",
   "execution_count": 4,
   "id": "fdf3c428-fa06-4fad-9d95-a2c6c2f5ff8e",
   "metadata": {},
   "outputs": [],
   "source": [
    "dist_mpc = np.array(terrazas_2017_sfr['Distance_[Mpc]'])\n",
    "IRAS60 = np.array(terrazas_2017_sfr['IRAS_60_micron_[Jy]'])\n",
    "IRAS100 = np.array(terrazas_2017_sfr['IRAS_100_micron_[Jy]'])"
   ]
  },
  {
   "cell_type": "code",
   "execution_count": 20,
   "id": "1df03087-d68a-4655-8a4a-090694c09351",
   "metadata": {},
   "outputs": [
    {
     "name": "stdout",
     "output_type": "stream",
     "text": [
      "1.5241500000000001\n",
      "2.47644\n"
     ]
    }
   ],
   "source": [
    "#changing the AKARI values that are in milli Jy to Jy \n",
    "\n",
    "akari65 = 1524.15/1000\n",
    "akari90 = 2476.44/1000\n",
    "\n",
    "print(akari65)\n",
    "print(akari90)"
   ]
  },
  {
   "cell_type": "code",
   "execution_count": 28,
   "id": "c4a3f253-fc4e-42f8-9f1f-45ecef20e2dc",
   "metadata": {},
   "outputs": [],
   "source": [
    "#My galaxy info (NGC 4026, NGC 4564 (upperlimits?))\n",
    "\n",
    "cosholes_dist = np.array([13.35, 15.94, 11.98])\n",
    "cosholes_iras60 = np.array([0.1, 0.06, 1.52]) #the last one is in 65 \n",
    "cosholes_iras100 = np.array([0.56, 0.19, 2.48]) #the last one is in 90"
   ]
  },
  {
   "cell_type": "code",
   "execution_count": 29,
   "id": "1175294b-fa3e-44aa-8741-9ec2b132043d",
   "metadata": {},
   "outputs": [
    {
     "name": "stdout",
     "output_type": "stream",
     "text": [
      "[ 7.27  7.27  5.   25.2  10.05 14.5 ] Mpc\n",
      "[2.24328760e+23 2.24328760e+23 1.54283879e+23 7.77590751e+23\n",
      " 3.10110597e+23 4.47423249e+23] m\n"
     ]
    }
   ],
   "source": [
    "#distance that we really want to use\n",
    "\n",
    "d_Mpc = dist_mpc * u.Mpc #Mpc\n",
    "print(d_Mpc)\n",
    "cosholes_dMpc = cosholes_dist * u.Mpc \n",
    "\n",
    "d_m = d_Mpc.to(u.m) #converting to meters which is what we want \n",
    "print(d_m)\n",
    "cosholes_dm = cosholes_dMpc.to(u.m)"
   ]
  },
  {
   "cell_type": "code",
   "execution_count": 30,
   "id": "1608ddf0-436c-4b7b-8c9e-04a8d3dfa0b7",
   "metadata": {},
   "outputs": [],
   "source": [
    "#Bryan's Code\n",
    "\n",
    "def L60_L100_toSFR(f_60, f_100, d):\n",
    "    #From Bell+03: Equation A1\n",
    "    FIR = (1.26*10**(-14)) * ((2.58*f_60) + f_100) # comes out in W m-2 (f_* should be in Jy)\n",
    "    TIR = 2.0*FIR #this we know from Terrazas 2016b\n",
    "    \n",
    "    #From Kennicutt & Evans 2012:\n",
    "    #The 10^7 is the unit conversion factor from watts to erg/s.\n",
    "    L_TIR = (4.0*np.pi*TIR * d**2) * 10**7 #d is in meters (OG code had lots of conversions to get Mpc to m)\n",
    "    L_TIR = L_TIR.astype(float)\n",
    "    \n",
    "    logC_TIR = 43.41 #constant from K&E 2012 equation 12\n",
    "    #SFRnolog = 10**(np.log10(L_TIR) - logC_TIR) #Msun/yr\n",
    "    sfrlog = (np.log10(L_TIR) - logC_TIR) \n",
    "    \n",
    "    return sfrlog"
   ]
  },
  {
   "cell_type": "code",
   "execution_count": 24,
   "id": "dc780ad5-d233-4bba-8aa7-c916096d0f35",
   "metadata": {},
   "outputs": [
    {
     "data": {
      "text/plain": [
       "array([-0.08 , -0.08 , -0.061, -1.047,  0.536,  0.767])"
      ]
     },
     "execution_count": 24,
     "metadata": {},
     "output_type": "execute_result"
    }
   ],
   "source": [
    "sfr_values = [] \n",
    "\n",
    "for i in range(len(dist_mpc)): \n",
    "    SFR = L60_L100_toSFR(IRAS60[i], IRAS100[i], d_m.value[i])\n",
    "    sfr_values.append(SFR)\n",
    "\n",
    "sfr_values = np.round(sfr_values,3)\n",
    "sfr_values"
   ]
  },
  {
   "cell_type": "code",
   "execution_count": 31,
   "id": "25d3c208-8a20-48ed-a676-79740407ffae",
   "metadata": {},
   "outputs": [
    {
     "data": {
      "text/plain": [
       "array([-1.767, -1.988, -0.967])"
      ]
     },
     "execution_count": 31,
     "metadata": {},
     "output_type": "execute_result"
    }
   ],
   "source": [
    "cosholes_sfr_values = [] \n",
    "\n",
    "for i in range(len(cosholes_dist)): \n",
    "    SFR = L60_L100_toSFR(cosholes_iras60[i], cosholes_iras100[i], cosholes_dm.value[i])\n",
    "    cosholes_sfr_values.append(SFR)\n",
    "\n",
    "cosholes_sfr_values = np.round(cosholes_sfr_values,3)\n",
    "cosholes_sfr_values"
   ]
  },
  {
   "cell_type": "code",
   "execution_count": null,
   "id": "38839ea9-fac7-4ef9-b554-e6d44332ec83",
   "metadata": {},
   "outputs": [],
   "source": [
    "#yay these are the values that we want "
   ]
  }
 ],
 "metadata": {
  "kernelspec": {
   "display_name": "Python 3 (ipykernel)",
   "language": "python",
   "name": "python3"
  },
  "language_info": {
   "codemirror_mode": {
    "name": "ipython",
    "version": 3
   },
   "file_extension": ".py",
   "mimetype": "text/x-python",
   "name": "python",
   "nbconvert_exporter": "python",
   "pygments_lexer": "ipython3",
   "version": "3.7.4"
  }
 },
 "nbformat": 4,
 "nbformat_minor": 5
}

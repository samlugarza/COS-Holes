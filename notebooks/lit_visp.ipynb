{
 "cells": [
  {
   "cell_type": "markdown",
   "id": "62a8757f-25b5-413f-895d-e1bcca052784",
   "metadata": {},
   "source": [
    "# Finding Literature Values MBHs using Value Added Catalogue"
   ]
  },
  {
   "cell_type": "code",
   "execution_count": 46,
   "id": "f86444fd-e7fa-4ca7-b9ab-52c32f941679",
   "metadata": {},
   "outputs": [],
   "source": [
    "from astropy.io import fits\n",
    "import pandas as pd\n",
    "import numpy as np\n",
    "import matplotlib.pyplot as plt"
   ]
  },
  {
   "cell_type": "code",
   "execution_count": 1,
   "id": "9393fdcd-bb8c-4d7c-bdec-32c014dfae21",
   "metadata": {},
   "outputs": [
    {
     "name": "stdout",
     "output_type": "stream",
     "text": [
      "Filename: /Users/samgarza/Dropbox/COS-Holes/ArchivalData/gal_info_dr7_v5_2.fit\n",
      "No.    Name      Ver    Type      Cards   Dimensions   Format\n",
      "  0  PRIMARY       1 PrimaryHDU       4   ()      \n",
      "  1                1 BinTableHDU     67   927552R x 25C   [I, J, I, 5I, E, E, 5E, I, I, 19A, 6A, 21A, E, E, I, E, E, E, E, E, E, 3E, 3E, 5E, 12A]   \n"
     ]
    }
   ],
   "source": [
    "gals = fits.open('/Users/samgarza/Dropbox/COS-Holes/ArchivalData/gal_info_dr7_v5_2.fit')\n",
    "gals.info()"
   ]
  },
  {
   "cell_type": "code",
   "execution_count": 118,
   "id": "989a5dfb-2cce-4355-928b-3a15cdb7106c",
   "metadata": {},
   "outputs": [
    {
     "data": {
      "text/plain": [
       "1.1374114617560287"
      ]
     },
     "execution_count": 118,
     "metadata": {},
     "output_type": "execute_result"
    }
   ],
   "source": [
    "0.04**-0.04"
   ]
  },
  {
   "cell_type": "code",
   "execution_count": 125,
   "id": "5de1467c-129a-44c3-ab73-1d94d0576e32",
   "metadata": {},
   "outputs": [
    {
     "data": {
      "text/plain": [
       "array([ 1, 11, 21])"
      ]
     },
     "execution_count": 125,
     "metadata": {},
     "output_type": "execute_result"
    }
   ],
   "source": [
    "rbu"
   ]
  },
  {
   "cell_type": "code",
   "execution_count": 127,
   "id": "50cc7753-1117-4125-9747-5e3bc10d0ed3",
   "metadata": {},
   "outputs": [
    {
     "data": {
      "text/plain": [
       "array([227.11114422, 223.45742761, 220.90077804, 218.93784801,\n",
       "       217.34697251, 216.01092844, 214.86023464, 213.85033985,\n",
       "       212.95098104, 212.14067079, 211.40360811, 210.72783781,\n",
       "       210.10409824, 209.52507018, 208.98487023, 208.47869906,\n",
       "       208.00259107, 207.55323227, 207.12782527, 206.72398744,\n",
       "       206.33967299, 205.97311248, 205.62276533, 205.28728205,\n",
       "       204.965474  , 204.65628887, 204.35879062, 204.07214306,\n",
       "       203.79559612, 203.52847448, 203.27016796, 203.02012347,\n",
       "       202.77783807, 202.54285312, 202.31474927, 202.09314207,\n",
       "       201.87767822, 201.66803231, 201.46390399, 201.26501542,\n",
       "       201.07110913, 200.88194604, 200.69730378, 200.51697518,\n",
       "       200.34076689, 200.16849821, 200.        , 199.83511371,\n",
       "       199.67369053, 199.51559061, 199.36068234, 199.20884175,\n",
       "       199.05995189, 198.91390235, 198.77058875, 198.62991234,\n",
       "       198.49177958, 198.35610179])"
      ]
     },
     "execution_count": 127,
     "metadata": {},
     "output_type": "execute_result"
    }
   ],
   "source": [
    "rbu = np.arange(1,30,0.5)\n",
    "rfib = 3 \n",
    "\n",
    "sigmastar = 200\n",
    "\n",
    "sigma = sigmastar*((rbu/8)/rfib)**-0.04\n",
    "sigma"
   ]
  },
  {
   "cell_type": "code",
   "execution_count": null,
   "id": "907d2cec-3bd9-49f9-b538-753b99250819",
   "metadata": {},
   "outputs": [],
   "source": []
  },
  {
   "cell_type": "code",
   "execution_count": 2,
   "id": "87406ad1-0f34-408e-8849-00aeb2b26afc",
   "metadata": {},
   "outputs": [
    {
     "data": {
      "text/plain": [
       "ColDefs(\n",
       "    name = 'PLATEID'; format = 'I'\n",
       "    name = 'MJD'; format = 'J'\n",
       "    name = 'FIBERID'; format = 'I'\n",
       "    name = 'PHOTOID'; format = '5I'\n",
       "    name = 'RA'; format = 'E'\n",
       "    name = 'DEC'; format = 'E'\n",
       "    name = 'PLUG_MAG'; format = '5E'\n",
       "    name = 'PRIMTARGET'; format = 'I'\n",
       "    name = 'SECTARGET'; format = 'I'\n",
       "    name = 'TARGETTYPE'; format = '19A'\n",
       "    name = 'SPECTROTYPE'; format = '6A'\n",
       "    name = 'SUBCLASS'; format = '21A'\n",
       "    name = 'Z'; format = 'E'\n",
       "    name = 'Z_ERR'; format = 'E'\n",
       "    name = 'Z_WARNING'; format = 'I'\n",
       "    name = 'V_DISP'; format = 'E'\n",
       "    name = 'V_DISP_ERR'; format = 'E'\n",
       "    name = 'SN_MEDIAN'; format = 'E'\n",
       "    name = 'E_BV_SFD'; format = 'E'\n",
       "    name = 'ZTWEAK'; format = 'E'\n",
       "    name = 'ZTWEAK_ERR'; format = 'E'\n",
       "    name = 'SPECTRO_MAG'; format = '3E'\n",
       "    name = 'KCOR_MAG'; format = '3E'\n",
       "    name = 'KCOR_MODEL_MAG'; format = '5E'\n",
       "    name = 'RELEASE'; format = '12A'\n",
       ")"
      ]
     },
     "execution_count": 2,
     "metadata": {},
     "output_type": "execute_result"
    }
   ],
   "source": [
    "gals[1].columns"
   ]
  },
  {
   "cell_type": "markdown",
   "id": "f9e39080-aa03-4c7e-a83b-50dc2a86f8a1",
   "metadata": {},
   "source": [
    "The formats I, J, E and A denote respectively: 16-bit integers, 32-bit integers, single-precision floats and characters (i.e. single elements from a string). The digits N in front of a letter format identifier show that that quantity is an array with N elements (if an integer or float) or a string with N characters. (note that short descriptions of the column data are given on the SDSS galaxy data webpage: https://wwwmpa.mpa-garching.mpg.de/SDSS/DR7/SDSS_info.html).\n",
    "\n",
    "For what we are trying to do we want to know the PLATEID, MJD, and FIBERID from the links that Jess sent to get the V_DISP and V_DISP_ERR for each galaxy to calculate the MBH "
   ]
  },
  {
   "cell_type": "code",
   "execution_count": 3,
   "id": "3451f162-86b5-4810-8940-5b96a3690887",
   "metadata": {},
   "outputs": [],
   "source": [
    "gal_data = gals[1].data"
   ]
  },
  {
   "cell_type": "code",
   "execution_count": 22,
   "id": "a7e6bd08-3ca1-4d12-85cb-11854f2afcfc",
   "metadata": {},
   "outputs": [
    {
     "name": "stdout",
     "output_type": "stream",
     "text": [
      "[ 4.085766  15.037567  18.037975  ... 10.088615   6.6684756 11.593746 ]\n"
     ]
    }
   ],
   "source": [
    "print(gal_data.V_DISP_ERR)"
   ]
  },
  {
   "cell_type": "markdown",
   "id": "6977f140-349d-4716-9ba6-c5d21782fd4b",
   "metadata": {},
   "source": [
    "Taking the columns of the fits files, making arrays, and then making a pandas df out of them "
   ]
  },
  {
   "cell_type": "code",
   "execution_count": 107,
   "id": "129b160d-e4e1-4fe0-8cf3-ec470746848c",
   "metadata": {},
   "outputs": [],
   "source": [
    "plateid = np.array(gal_data['PLATEID'])\n",
    "mjd = np.array(gal_data['MJD']) \n",
    "fiberid = np.array(gal_data['FIBERID'])\n",
    "ra = np.array(gal_data['RA']) \n",
    "dec = np.array(gal_data['DEC'])\n",
    "z = np.array(gal_data['Z'])  \n",
    "z_err = np.array(gal_data['Z_ERR'])\n",
    "v_disp = np.array(gal_data['V_DISP'])\n",
    "v_disp_err = np.array(gal_data['V_DISP_ERR'])"
   ]
  },
  {
   "cell_type": "code",
   "execution_count": 108,
   "id": "45bb5507-48e7-4df3-892a-980595919447",
   "metadata": {},
   "outputs": [],
   "source": [
    "cat = pd.DataFrame({\"PLATEID\":plateid, \"MJD\":mjd, \"FIBERID\":fiberid, \"RA\":ra, \"DEC\":dec, \"Z\":z, \"Z_ERR\":z_err, \"V_DISP\":v_disp, \"V_DISP_ERR\":v_disp_err})"
   ]
  },
  {
   "cell_type": "code",
   "execution_count": 109,
   "id": "0bdeb35c-2003-4c17-8ed2-df6633b1be41",
   "metadata": {},
   "outputs": [
    {
     "data": {
      "text/html": [
       "<div>\n",
       "<style scoped>\n",
       "    .dataframe tbody tr th:only-of-type {\n",
       "        vertical-align: middle;\n",
       "    }\n",
       "\n",
       "    .dataframe tbody tr th {\n",
       "        vertical-align: top;\n",
       "    }\n",
       "\n",
       "    .dataframe thead th {\n",
       "        text-align: right;\n",
       "    }\n",
       "</style>\n",
       "<table border=\"1\" class=\"dataframe\">\n",
       "  <thead>\n",
       "    <tr style=\"text-align: right;\">\n",
       "      <th></th>\n",
       "      <th>PLATEID</th>\n",
       "      <th>MJD</th>\n",
       "      <th>FIBERID</th>\n",
       "      <th>RA</th>\n",
       "      <th>DEC</th>\n",
       "      <th>Z</th>\n",
       "      <th>Z_ERR</th>\n",
       "      <th>V_DISP</th>\n",
       "      <th>V_DISP_ERR</th>\n",
       "    </tr>\n",
       "  </thead>\n",
       "  <tbody>\n",
       "    <tr>\n",
       "      <th>0</th>\n",
       "      <td>266</td>\n",
       "      <td>51602</td>\n",
       "      <td>1</td>\n",
       "      <td>146.714203</td>\n",
       "      <td>-1.041304</td>\n",
       "      <td>0.021275</td>\n",
       "      <td>0.000009</td>\n",
       "      <td>135.899567</td>\n",
       "      <td>4.085766</td>\n",
       "    </tr>\n",
       "    <tr>\n",
       "      <th>1</th>\n",
       "      <td>266</td>\n",
       "      <td>51602</td>\n",
       "      <td>2</td>\n",
       "      <td>146.919449</td>\n",
       "      <td>-0.990492</td>\n",
       "      <td>0.213925</td>\n",
       "      <td>0.000052</td>\n",
       "      <td>140.481186</td>\n",
       "      <td>15.037567</td>\n",
       "    </tr>\n",
       "    <tr>\n",
       "      <th>2</th>\n",
       "      <td>266</td>\n",
       "      <td>51602</td>\n",
       "      <td>4</td>\n",
       "      <td>146.859833</td>\n",
       "      <td>-0.808902</td>\n",
       "      <td>0.126554</td>\n",
       "      <td>0.000062</td>\n",
       "      <td>201.574417</td>\n",
       "      <td>18.037975</td>\n",
       "    </tr>\n",
       "    <tr>\n",
       "      <th>3</th>\n",
       "      <td>266</td>\n",
       "      <td>51602</td>\n",
       "      <td>5</td>\n",
       "      <td>146.763397</td>\n",
       "      <td>-0.810433</td>\n",
       "      <td>0.448645</td>\n",
       "      <td>0.000168</td>\n",
       "      <td>240.905869</td>\n",
       "      <td>69.598114</td>\n",
       "    </tr>\n",
       "    <tr>\n",
       "      <th>4</th>\n",
       "      <td>266</td>\n",
       "      <td>51602</td>\n",
       "      <td>6</td>\n",
       "      <td>146.963898</td>\n",
       "      <td>-0.545003</td>\n",
       "      <td>0.055988</td>\n",
       "      <td>0.000011</td>\n",
       "      <td>47.055084</td>\n",
       "      <td>38.030617</td>\n",
       "    </tr>\n",
       "    <tr>\n",
       "      <th>...</th>\n",
       "      <td>...</td>\n",
       "      <td>...</td>\n",
       "      <td>...</td>\n",
       "      <td>...</td>\n",
       "      <td>...</td>\n",
       "      <td>...</td>\n",
       "      <td>...</td>\n",
       "      <td>...</td>\n",
       "      <td>...</td>\n",
       "    </tr>\n",
       "    <tr>\n",
       "      <th>927547</th>\n",
       "      <td>2974</td>\n",
       "      <td>54592</td>\n",
       "      <td>633</td>\n",
       "      <td>260.743164</td>\n",
       "      <td>31.944035</td>\n",
       "      <td>0.033870</td>\n",
       "      <td>0.000009</td>\n",
       "      <td>102.931534</td>\n",
       "      <td>3.445269</td>\n",
       "    </tr>\n",
       "    <tr>\n",
       "      <th>927548</th>\n",
       "      <td>2974</td>\n",
       "      <td>54592</td>\n",
       "      <td>635</td>\n",
       "      <td>260.800568</td>\n",
       "      <td>31.898993</td>\n",
       "      <td>0.159622</td>\n",
       "      <td>0.000023</td>\n",
       "      <td>210.749359</td>\n",
       "      <td>9.568452</td>\n",
       "    </tr>\n",
       "    <tr>\n",
       "      <th>927549</th>\n",
       "      <td>2974</td>\n",
       "      <td>54592</td>\n",
       "      <td>636</td>\n",
       "      <td>260.716003</td>\n",
       "      <td>32.024277</td>\n",
       "      <td>0.167358</td>\n",
       "      <td>0.000030</td>\n",
       "      <td>230.786392</td>\n",
       "      <td>10.088615</td>\n",
       "    </tr>\n",
       "    <tr>\n",
       "      <th>927550</th>\n",
       "      <td>2974</td>\n",
       "      <td>54592</td>\n",
       "      <td>637</td>\n",
       "      <td>260.697235</td>\n",
       "      <td>32.285629</td>\n",
       "      <td>0.111548</td>\n",
       "      <td>0.000017</td>\n",
       "      <td>196.624634</td>\n",
       "      <td>6.668476</td>\n",
       "    </tr>\n",
       "    <tr>\n",
       "      <th>927551</th>\n",
       "      <td>2974</td>\n",
       "      <td>54592</td>\n",
       "      <td>638</td>\n",
       "      <td>260.716248</td>\n",
       "      <td>32.092903</td>\n",
       "      <td>0.223957</td>\n",
       "      <td>0.000034</td>\n",
       "      <td>280.104553</td>\n",
       "      <td>11.593746</td>\n",
       "    </tr>\n",
       "  </tbody>\n",
       "</table>\n",
       "<p>927552 rows × 9 columns</p>\n",
       "</div>"
      ],
      "text/plain": [
       "        PLATEID    MJD  FIBERID          RA        DEC         Z     Z_ERR  \\\n",
       "0           266  51602        1  146.714203  -1.041304  0.021275  0.000009   \n",
       "1           266  51602        2  146.919449  -0.990492  0.213925  0.000052   \n",
       "2           266  51602        4  146.859833  -0.808902  0.126554  0.000062   \n",
       "3           266  51602        5  146.763397  -0.810433  0.448645  0.000168   \n",
       "4           266  51602        6  146.963898  -0.545003  0.055988  0.000011   \n",
       "...         ...    ...      ...         ...        ...       ...       ...   \n",
       "927547     2974  54592      633  260.743164  31.944035  0.033870  0.000009   \n",
       "927548     2974  54592      635  260.800568  31.898993  0.159622  0.000023   \n",
       "927549     2974  54592      636  260.716003  32.024277  0.167358  0.000030   \n",
       "927550     2974  54592      637  260.697235  32.285629  0.111548  0.000017   \n",
       "927551     2974  54592      638  260.716248  32.092903  0.223957  0.000034   \n",
       "\n",
       "            V_DISP  V_DISP_ERR  \n",
       "0       135.899567    4.085766  \n",
       "1       140.481186   15.037567  \n",
       "2       201.574417   18.037975  \n",
       "3       240.905869   69.598114  \n",
       "4        47.055084   38.030617  \n",
       "...            ...         ...  \n",
       "927547  102.931534    3.445269  \n",
       "927548  210.749359    9.568452  \n",
       "927549  230.786392   10.088615  \n",
       "927550  196.624634    6.668476  \n",
       "927551  280.104553   11.593746  \n",
       "\n",
       "[927552 rows x 9 columns]"
      ]
     },
     "execution_count": 109,
     "metadata": {},
     "output_type": "execute_result"
    }
   ],
   "source": [
    "cat"
   ]
  },
  {
   "cell_type": "markdown",
   "id": "3c5befe9-3ab7-48e6-b4e0-a1d6229d6bc3",
   "metadata": {},
   "source": [
    "### Tried using the pandas frame and just moved back to using the fits file and this silly way seems to work"
   ]
  },
  {
   "cell_type": "code",
   "execution_count": 112,
   "id": "98b54771-89b2-486f-9f5c-944150b05093",
   "metadata": {},
   "outputs": [],
   "source": [
    "#Values that I need to search for the vdisps for the specific galaxy/qso using from literature \n",
    "\n",
    "#BORDOLOI VALUES \n",
    "pids = np.array([2105, 511, 833, 2227, 995])\n",
    "mjds = np.array([53472, 52636, 52314, 53820, 52731])\n",
    "fids = np.array([407, 449, 104, 491, 208])\n",
    "\n",
    "#BORTHAKUR VALUES \n",
    "\n",
    "pids_borth = np.array([1167, 526, 1430, 1285])\n",
    "mjds_borth = np.array([52738, 52312, 53002, 52723])\n",
    "fids_borth = np.array([638, 529, 237, 37])"
   ]
  },
  {
   "cell_type": "code",
   "execution_count": 103,
   "id": "195ad3c8-fbaa-4936-9725-7e2a34f2ed39",
   "metadata": {},
   "outputs": [
    {
     "name": "stdout",
     "output_type": "stream",
     "text": [
      "(1,)\n",
      "V_DISP: [57.136898], V_DISP_ERR:[13.070264]\n",
      "(1,)\n",
      "V_DISP: [41.15367], V_DISP_ERR:[9.7062435]\n",
      "(1,)\n",
      "V_DISP: [43.57293], V_DISP_ERR:[7.5054946]\n",
      "(1,)\n",
      "V_DISP: [33.40527], V_DISP_ERR:[16.83185]\n",
      "(1,)\n",
      "V_DISP: [77.021416], V_DISP_ERR:[17.392845]\n"
     ]
    }
   ],
   "source": [
    "#For Bordoloi\n",
    "vdisps = []\n",
    "vdisps_err = []\n",
    "\n",
    "for i in range(len(pids)): \n",
    "    #Plate ID\n",
    "    mask = gal_data.PLATEID == pids[i]\n",
    "    check = gal_data[mask]\n",
    "\n",
    "    #MJD\n",
    "    mask2 = check.MJD == mjds[i]\n",
    "    check = check[mask2]\n",
    "\n",
    "    #FIBERID\n",
    "    mask3 = check.FIBERID == fids[i]\n",
    "    test = check[mask3]\n",
    "    print(test.shape)\n",
    "    \n",
    "    print(f'V_DISP: {test.V_DISP}, V_DISP_ERR:{test.V_DISP_ERR}')\n",
    "    \n",
    "    vdisps.append(test.V_DISP)\n",
    "    vdisps_err.append(test.V_DISP_ERR)"
   ]
  },
  {
   "cell_type": "code",
   "execution_count": 106,
   "id": "034e0330-c6d4-43a7-abbb-345fd5f9bbc3",
   "metadata": {},
   "outputs": [],
   "source": [
    "vdisps = np.array(vdisps)\n",
    "vdisps = vdisps.reshape(5,)\n",
    "#vdisps\n",
    "\n",
    "vdisps_err = np.array(vdisps_err)\n",
    "vdisps_err = vdisps_err.reshape(5,)\n",
    "#vdisps_err"
   ]
  },
  {
   "cell_type": "code",
   "execution_count": 113,
   "id": "d37f0fb7-1d57-450f-999b-0777330586d0",
   "metadata": {},
   "outputs": [
    {
     "name": "stdout",
     "output_type": "stream",
     "text": [
      "(1,)\n",
      "V_DISP: [76.28716], V_DISP_ERR:[17.076445]\n",
      "(1,)\n",
      "V_DISP: [148.91199], V_DISP_ERR:[7.8888116]\n",
      "(1,)\n",
      "V_DISP: [121.198685], V_DISP_ERR:[18.669765]\n",
      "(1,)\n",
      "V_DISP: [134.5503], V_DISP_ERR:[24.878817]\n"
     ]
    }
   ],
   "source": [
    "#For Borthakur\n",
    "vdisps_borth = []\n",
    "vdisps_err_borth = []\n",
    "\n",
    "for i in range(len(pids_borth)): \n",
    "    #Plate ID\n",
    "    mask = gal_data.PLATEID == pids_borth[i]\n",
    "    check = gal_data[mask]\n",
    "\n",
    "    #MJD\n",
    "    mask2 = check.MJD == mjds_borth[i]\n",
    "    check = check[mask2]\n",
    "\n",
    "    #FIBERID\n",
    "    mask3 = check.FIBERID == fids_borth[i]\n",
    "    test = check[mask3]\n",
    "    print(test.shape)\n",
    "    \n",
    "    print(f'V_DISP: {test.V_DISP}, V_DISP_ERR:{test.V_DISP_ERR}')\n",
    "    \n",
    "    vdisps_borth.append(test.V_DISP)\n",
    "    vdisps_err_borth.append(test.V_DISP_ERR)"
   ]
  },
  {
   "cell_type": "code",
   "execution_count": 115,
   "id": "35930abc-902a-4de4-9cc0-775dda7e4df1",
   "metadata": {},
   "outputs": [],
   "source": [
    "vdisps_borth = np.array(vdisps_borth)\n",
    "vdisps_borth = vdisps_borth.reshape(4,)\n",
    "#vdisps\n",
    "\n",
    "vdisps_err_borth = np.array(vdisps_err_borth)\n",
    "vdisps_err_borth = vdisps_err_borth.reshape(4,)\n",
    "#vdisps_err"
   ]
  },
  {
   "cell_type": "markdown",
   "id": "776e99aa-309b-402c-8937-ac8ee0e8ab98",
   "metadata": {},
   "source": [
    "### Using Equation (7) from Piotrowska et al 2022 (https://ui.adsabs.harvard.edu/abs/2022MNRAS.512.1052P/abstract) to take the velocity dispersions that we just found and get the MBH "
   ]
  },
  {
   "cell_type": "code",
   "execution_count": 116,
   "id": "8ff2859d-2fc9-4302-b701-4d07505d9ba8",
   "metadata": {},
   "outputs": [
    {
     "data": {
      "text/plain": [
       "array([5.4467845, 4.6991878, 4.829331 , 4.223933 , 6.1271634],\n",
       "      dtype=float32)"
      ]
     },
     "execution_count": 116,
     "metadata": {},
     "output_type": "execute_result"
    }
   ],
   "source": [
    "logMBH_bord = (5.246 * np.log10(vdisps)) - 3.77 #epsilon = 0.417\n",
    "logMBH_bord"
   ]
  },
  {
   "cell_type": "code",
   "execution_count": 117,
   "id": "2dafbb77-6d5e-4573-9ec9-fdc879f5a674",
   "metadata": {},
   "outputs": [
    {
     "data": {
      "text/plain": [
       "array([6.1053395, 7.629189 , 7.16003  , 7.398128 ], dtype=float32)"
      ]
     },
     "execution_count": 117,
     "metadata": {},
     "output_type": "execute_result"
    }
   ],
   "source": [
    "logMBH_borth = (5.246 * np.log10(vdisps_borth)) - 3.77 #epsilon = 0.417\n",
    "logMBH_borth"
   ]
  },
  {
   "cell_type": "code",
   "execution_count": null,
   "id": "2fd00e36-d3ea-4acc-aec5-3a762cdb1386",
   "metadata": {},
   "outputs": [],
   "source": []
  }
 ],
 "metadata": {
  "kernelspec": {
   "display_name": "Python 3 (ipykernel)",
   "language": "python",
   "name": "python3"
  },
  "language_info": {
   "codemirror_mode": {
    "name": "ipython",
    "version": 3
   },
   "file_extension": ".py",
   "mimetype": "text/x-python",
   "name": "python",
   "nbconvert_exporter": "python",
   "pygments_lexer": "ipython3",
   "version": "3.7.4"
  }
 },
 "nbformat": 4,
 "nbformat_minor": 5
}

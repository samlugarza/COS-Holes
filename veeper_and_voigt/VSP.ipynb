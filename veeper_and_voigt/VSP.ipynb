{
 "cells": [
  {
   "cell_type": "markdown",
   "id": "c195dc2e-020f-4f7c-88aa-d04a8654103d",
   "metadata": {},
   "source": [
    "# Automated Voigt Species Plots (VSP)\n",
    "\n",
    "### This code is able to take the component groups and turn it into a csv file that contains all the information about the Veeper fits. It then reduces the pandas data frame to just the fits of the galaxy and runs them through a function that returns the voigt fit and the velocities associated with them to make voigt species plots similar to those seen in Figure 3 of Werk et al. 2013 (https://iopscience.iop.org/article/10.1088/0067-0049/204/2/17/pdf)\n",
    "\n",
    "Note: This code is meant to be run after the veeper_create-run-collate.ipynb"
   ]
  },
  {
   "cell_type": "code",
   "execution_count": null,
   "id": "76663853-1417-406e-9e37-1aea4cf72b8e",
   "metadata": {},
   "outputs": [],
   "source": []
  }
 ],
 "metadata": {
  "kernelspec": {
   "display_name": "Python 3 (ipykernel)",
   "language": "python",
   "name": "python3"
  },
  "language_info": {
   "codemirror_mode": {
    "name": "ipython",
    "version": 3
   },
   "file_extension": ".py",
   "mimetype": "text/x-python",
   "name": "python",
   "nbconvert_exporter": "python",
   "pygments_lexer": "ipython3",
   "version": "3.7.4"
  }
 },
 "nbformat": 4,
 "nbformat_minor": 5
}

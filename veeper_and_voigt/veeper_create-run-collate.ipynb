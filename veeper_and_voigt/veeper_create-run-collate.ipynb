{
 "cells": [
  {
   "cell_type": "markdown",
   "id": "4af64b2a-f230-4f74-87b1-819a4100a384",
   "metadata": {},
   "source": [
    "# Veeper: Create, Run, and Collate\n",
    "\n",
    "This is a generalized code that can bring in any spectra, save it to its own components folder, and save the corresponding fits\n",
    "\n",
    "Install: https://github.com/mattcwilde/veeper\n",
    "\n",
    "\n",
    "Here are some notes for the future\n",
    "\n",
    "#### Running this code in Step 3 will produce a FitInspection.pdf file with a preview of your voigt fits: \n",
    "- Red line = total \n",
    "- dashed line = particular component \n",
    "- the order is the redshift \n",
    "\n",
    "#### If the file needs to be changed (editing.ipynb): "
   ]
  },
  {
   "cell_type": "code",
   "execution_count": 1,
   "id": "e3d4049e-2d7f-43b2-afd0-3945e13f2d1c",
   "metadata": {},
   "outputs": [
    {
     "name": "stdout",
     "output_type": "stream",
     "text": [
      "read_sets: Using set file -- \n",
      "  /Users/samgarza/linetools/linetools/lists/sets/llist_v1.3.ascii\n",
      "Loading abundances from Asplund2009\n",
      "Abundances are relative by number on a logarithmic scale with H=12\n",
      "linetools.lists.parse: Reading linelist --- \n",
      "   /Users/samgarza/linetools/linetools/data/lines/morton03_table2.fits.gz\n",
      "linetools.lists.parse: Reading linelist --- \n",
      "   /Users/samgarza/linetools/linetools/data/lines/verner96_tab1.fits.gz\n",
      "joebvp.makevoigt: No local joebvp_cfg.py found, using default cfg.py file from joebvp.\n",
      "joebvp.VPmeasure: No local joebvp_cfg.py found, using default cfg.py file from joebvp.\n",
      "Loading abundances from Asplund2009\n",
      "Abundances are relative by number on a logarithmic scale with H=12\n",
      "linetools.lists.parse: Reading linelist --- \n",
      "   /Users/samgarza/linetools/linetools/data/lines/morton03_table2.fits.gz\n",
      "linetools.lists.parse: Reading linelist --- \n",
      "   /Users/samgarza/linetools/linetools/data/lines/verner96_tab1.fits.gz\n",
      "joebvp.makevoigt: No local joebvp_cfg.py found, using default cfg.py file from joebvp.\n",
      "/Users/samgarza/opt/anaconda3/lib/python3.7/site-packages/joebvp-0.5.4-py3.7.egg/joebvp\n",
      "joebvp.utils: No local joebvp_cfg.py found, using default cfg.py file from joebvp.\n"
     ]
    }
   ],
   "source": [
    "##--- Step one \n",
    "from joebvp.utils import pyigm_to_veeper\n",
    "from joebvp.VPmeasure import batch_fit\n",
    "from joebvp import VPmeasure\n",
    "import glob\n",
    "import os\n",
    "import astropy.units as u"
   ]
  },
  {
   "cell_type": "markdown",
   "id": "90fa97d3-b083-4098-81a8-4901cd961fd6",
   "metadata": {},
   "source": [
    "#### Paths for each of my spectra: \n",
    "- ##### NGC 3489 / J1101: \n",
    "    - json_path =  '/Users/samgarza/Dropbox/COS-HolesHSTdata/J1101+1429/SamIDs_Nov28_2022.json' \n",
    "    - norm = 'J1101+1429_nbin3_jwnorm.fits'\n",
    "\n",
    "- ##### NGC 4026 / J1159: \n",
    "    - json_path = '/Users/samgarza/Dropbox/COS-HolesHSTdata/J1159+5106/SamIDs_meth3_Nov28_2022.json'\n",
    "    - norm = 'J1159+5106_nbin3_jwnorm_meth3.fits'\n",
    "    \n",
    "- ##### NGC 4736 / J1249: \n",
    "    - json_path = '/Users/samgarza/Dropbox/COS-HolesHSTdata/J1249+4122/SamIDs_Nov28_2022.json'\n",
    "    - norm = 'J1249+4122_nbin3_visit12_jwnorm.fits'\n",
    "    \n",
    "- ##### NGC 3414 / 1051: \n",
    "    - json_path = '/Users/samgarza/Dropbox/COS-HolesHSTdata/J1051+2805/SamIDs_Nov29_2022.json'\n",
    "    - norm = 'J1051+2805_nbin3_jwnorm.fits'\n",
    "    \n",
    "- ##### NGC 3627 / J1123: \n",
    "    - json_path = '/Users/samgarza/Dropbox/COS-HolesHSTdata/J1123+1257/SamIDs_Nov29_2022.json'\n",
    "    - norm = 'J1123+1257_nbin3_BASIC_jwnorm.fits'\n",
    "\n",
    "- ##### NGC 1097 / J0246: \n",
    "    - json_path = '/Users/samgarza/Dropbox/COS-HolesHSTdata/J0246-3007/SamIDs_Nov28_2022.json'\n",
    "    - norm = 'J0246-3007_nbin3_allvisits_jwnorm.fits'\n",
    "\n",
    "- ##### NGC 4564 / J1235: \n",
    "    - json_path = '/Users/samgarza/Dropbox/COS-HolesHSTdata/J1235+1123/SamIDs_Nov28_2022.json'\n",
    "    - norm = 'J1235+1123_twovisits_m3_jwnorm.fits'"
   ]
  },
  {
   "cell_type": "code",
   "execution_count": 5,
   "id": "5f01ec53-c34f-4e25-a914-9972da595be2",
   "metadata": {},
   "outputs": [
    {
     "name": "stdout",
     "output_type": "stream",
     "text": [
      "Loading abundances from Asplund2009\n",
      "Abundances are relative by number on a logarithmic scale with H=12\n"
     ]
    }
   ],
   "source": [
    "#Step 2: Imput the specifications \n",
    "    # basically takes the gueses and the norm to start the process\n",
    "    #dv_expand is how much you can expand the redlines to be of some problem \n",
    "\n",
    "#These will change for each galaxy/line of sight  \n",
    "#path to specific .json file\n",
    "json_path = '/Users/samgarza/Dropbox/COS-HolesHSTdata/J1123+1257/SamIDs_Nov29_2022.json'\n",
    "\n",
    "# normalization file that you want to use\n",
    "norm = 'J1123+1257_nbin3_BASIC_jwnorm.fits'\n",
    "norm_path = '/Users/samgarza/Dropbox/COS-HolesHSTdata/J1123+1257/J1123+1257_nbin3_BASIC_jwnorm.fits' #path to normalization file \n",
    "\n",
    "pyigm_to_veeper(json_path, norm, dv_expand=50*u.km/u.s)"
   ]
  },
  {
   "cell_type": "code",
   "execution_count": 6,
   "id": "947f146c-1b6e-481f-9f84-0a3dbf1ac207",
   "metadata": {},
   "outputs": [],
   "source": [
    "input_files = glob.glob('component_groups/*.txt')\n",
    "\n",
    "#This was 10 in the other one but I want to make this 20 since it skipped something that was 15 before \n",
    "max_len = 20 #skip over files where there are more than this many lines to fit \n",
    "redo = False\n",
    "\n",
    "to_do = []\n",
    "for input_file in input_files:\n",
    "    if 'rchi2' in input_file:\n",
    "        continue\n",
    "    if not redo:\n",
    "        #already done?\n",
    "        if os.path.exists(input_file.replace('.txt', '.VP')): \n",
    "            print('Skipping: Already done {}'.format(input_file))\n",
    "            continue\n",
    "    \n",
    "    #too long?\n",
    "    with open(input_file, 'r') as f:\n",
    "        length = len(f.readlines())\n",
    "        if length > max_len:\n",
    "            print('Skipping: Too long ({} rows) {}'.format(length, input_file))\n",
    "            continue\n",
    "            \n",
    "    to_do.append(input_file)"
   ]
  },
  {
   "cell_type": "code",
   "execution_count": 7,
   "id": "6003337b-f043-4124-820b-61bc6049b54b",
   "metadata": {},
   "outputs": [
    {
     "name": "stdout",
     "output_type": "stream",
     "text": [
      "`ftol` termination condition is satisfied.\n",
      "Function evaluations 18, initial cost 9.6514e+01, final cost 7.0484e+01, first-order optimality 1.88e-03.\n",
      "\n",
      "Fit results: \n",
      "\n",
      "1393.76\t -0.000410\t 13.484\t 72.600\t 67.175\n",
      " \t  \t  \t 0.344\t 42.884\t 46.878 \n",
      "\n",
      "1402.77\t -0.000410\t 13.484\t 72.600\t 67.175\n",
      " \t  \t  \t 0.0\t 0.0\t 0.0 \n",
      "\n",
      "1393.76\t 0.000190\t 13.156\t 55.600\t -9.3405\n",
      " \t  \t  \t 0.717\t 44.128\t 54.119 \n",
      "\n",
      "1402.77\t 0.000190\t 13.156\t 55.600\t -9.3405\n",
      " \t  \t  \t 0.0\t 0.0\t 0.0 \n",
      "\n",
      "\n",
      "Reduced chi-squared: 1.136832\n",
      "Iteration 1 -\n",
      "Fit converged after 1 outer iterations.\n",
      "VPmeasure: Fit converged: component_groups/input_group_0.txt\n",
      "Line parameters written to:\n",
      "component_groups/input_group_0.VP\n",
      "Wrote spectrum to component_groups/input_group_0_VPmodel.fits\n",
      "Loading abundances from Asplund2009\n",
      "Abundances are relative by number on a logarithmic scale with H=12\n"
     ]
    },
    {
     "name": "stderr",
     "output_type": "stream",
     "text": [
      "WARNING: AstropyDeprecationWarning: The truth value of a Quantity is ambiguous. In the future this will raise a ValueError. [astropy.units.quantity]\n",
      "WARNING: AstropyDeprecationWarning: The truth value of a Quantity is ambiguous. In the future this will raise a ValueError. [astropy.units.quantity]\n"
     ]
    },
    {
     "name": "stdout",
     "output_type": "stream",
     "text": [
      "Wrote spectrum to component_groups/input_group_0_inspect.fits\n"
     ]
    },
    {
     "name": "stderr",
     "output_type": "stream",
     "text": [
      "/Users/samgarza/linetools/linetools/spectra/lsf.py:551: UserWarning: LSF may result from extrapolation outside wavelength range characterized for current grating.\n",
      "  \"LSF may result from extrapolation outside wavelength range characterized for current grating.\")\n"
     ]
    },
    {
     "name": "stdout",
     "output_type": "stream",
     "text": [
      "`ftol` termination condition is satisfied.\n",
      "Function evaluations 6, initial cost 6.9352e+01, final cost 6.6737e+01, first-order optimality 1.18e-03.\n",
      "\n",
      "Fit results: \n",
      "\n",
      "1190.42\t 0.200120\t 13.340\t 53.446\t 8.2192\n",
      " \t  \t  \t 0.052\t 8.094\t 5.661 \n",
      "\n",
      "1193.29\t 0.200120\t 13.340\t 53.446\t 8.2192\n",
      " \t  \t  \t 0.0\t 0.0\t 0.0 \n",
      "\n",
      "1260.42\t 0.200120\t 13.340\t 53.446\t 8.2192\n",
      " \t  \t  \t 0.0\t 0.0\t 0.0 \n",
      "\n",
      "1304.37\t 0.200120\t 13.340\t 53.446\t 8.2192\n",
      " \t  \t  \t 0.0\t 0.0\t 0.0 \n",
      "\n",
      "\n",
      "Reduced chi-squared: 0.767092\n",
      "Iteration 1 -\n",
      "Fit converged after 1 outer iterations.\n",
      "VPmeasure: Fit converged: component_groups/input_group_1.txt\n",
      "Line parameters written to:\n",
      "component_groups/input_group_1.VP\n",
      "Wrote spectrum to component_groups/input_group_1_VPmodel.fits\n",
      "Loading abundances from Asplund2009\n",
      "Abundances are relative by number on a logarithmic scale with H=12\n"
     ]
    },
    {
     "name": "stderr",
     "output_type": "stream",
     "text": [
      "WARNING: AstropyDeprecationWarning: The truth value of a Quantity is ambiguous. In the future this will raise a ValueError. [astropy.units.quantity]\n"
     ]
    },
    {
     "name": "stdout",
     "output_type": "stream",
     "text": [
      "Wrote spectrum to component_groups/input_group_1_inspect.fits\n",
      "`ftol` termination condition is satisfied.\n",
      "Function evaluations 15, initial cost 3.6219e+01, final cost 3.5192e+01, first-order optimality 4.68e-04.\n",
      "\n",
      "Fit results: \n",
      "\n",
      "1526.71\t 0.002480\t 13.472\t 26.700\t -24.959\n",
      " \t  \t  \t 0.251\t 24.449\t 15.925 \n",
      "\n",
      "\n",
      "Reduced chi-squared: 2.427048\n",
      "Iteration 1 -\n",
      "Fit converged after 1 outer iterations.\n",
      "VPmeasure: Fit converged: component_groups/input_group_3.txt\n",
      "Line parameters written to:\n",
      "component_groups/input_group_3.VP\n",
      "Wrote spectrum to component_groups/input_group_3_VPmodel.fits\n",
      "Loading abundances from Asplund2009\n",
      "Abundances are relative by number on a logarithmic scale with H=12\n"
     ]
    },
    {
     "name": "stderr",
     "output_type": "stream",
     "text": [
      "WARNING: AstropyDeprecationWarning: The truth value of a Quantity is ambiguous. In the future this will raise a ValueError. [astropy.units.quantity]\n"
     ]
    },
    {
     "name": "stdout",
     "output_type": "stream",
     "text": [
      "Wrote spectrum to component_groups/input_group_3_inspect.fits\n",
      "`ftol` termination condition is satisfied.\n",
      "Function evaluations 12, initial cost 3.0221e+01, final cost 2.2137e+01, first-order optimality 1.96e-03.\n",
      "\n",
      "Fit results: \n",
      "\n",
      "1526.71\t -0.000160\t 14.921\t 45.700\t 4.5679\n",
      " \t  \t  \t 0.151\t 9.842\t 6.528 \n",
      "\n",
      "1526.71\t 0.000260\t 14.293\t 36.482\t -10.64\n",
      " \t  \t  \t 0.12\t 12.475\t 9.887 \n",
      "\n",
      "\n",
      "Reduced chi-squared: 0.922368\n",
      "Iteration 1 -\n",
      "Fit converged after 1 outer iterations.\n",
      "VPmeasure: Fit converged: component_groups/input_group_2.txt\n",
      "Line parameters written to:\n",
      "component_groups/input_group_2.VP\n",
      "Wrote spectrum to component_groups/input_group_2_VPmodel.fits\n",
      "Loading abundances from Asplund2009\n",
      "Abundances are relative by number on a logarithmic scale with H=12\n"
     ]
    },
    {
     "name": "stderr",
     "output_type": "stream",
     "text": [
      "WARNING: AstropyDeprecationWarning: The truth value of a Quantity is ambiguous. In the future this will raise a ValueError. [astropy.units.quantity]\n",
      "WARNING: AstropyDeprecationWarning: The truth value of a Quantity is ambiguous. In the future this will raise a ValueError. [astropy.units.quantity]\n"
     ]
    },
    {
     "name": "stdout",
     "output_type": "stream",
     "text": [
      "Wrote spectrum to component_groups/input_group_2_inspect.fits\n",
      "`ftol` termination condition is satisfied.\n",
      "Function evaluations 36, initial cost 2.0414e+01, final cost 1.2512e+01, first-order optimality 6.67e-03.\n",
      "\n",
      "Fit results: \n",
      "\n",
      "1670.79\t -0.000230\t 13.827\t 51.000\t 26.517\n",
      " \t  \t  \t 0.368\t 23.056\t 20.162 \n",
      "\n",
      "1670.79\t 0.000270\t 13.226\t 40.800\t -9.929\n",
      " \t  \t  \t 0.311\t 27.233\t 27.7 \n",
      "\n",
      "\n",
      "Reduced chi-squared: 0.431464\n",
      "Iteration 1 -\n",
      "Fit converged after 1 outer iterations.\n",
      "VPmeasure: Fit converged: component_groups/input_group_6.txt\n",
      "Line parameters written to:\n",
      "component_groups/input_group_6.VP\n",
      "Wrote spectrum to component_groups/input_group_6_VPmodel.fits\n",
      "Loading abundances from Asplund2009\n",
      "Abundances are relative by number on a logarithmic scale with H=12\n"
     ]
    },
    {
     "name": "stderr",
     "output_type": "stream",
     "text": [
      "WARNING: AstropyDeprecationWarning: The truth value of a Quantity is ambiguous. In the future this will raise a ValueError. [astropy.units.quantity]\n",
      "WARNING: AstropyDeprecationWarning: The truth value of a Quantity is ambiguous. In the future this will raise a ValueError. [astropy.units.quantity]\n"
     ]
    },
    {
     "name": "stdout",
     "output_type": "stream",
     "text": [
      "Wrote spectrum to component_groups/input_group_6_inspect.fits\n",
      "There are no valid pixels to fit in the region. Moving on.\n",
      "`ftol` termination condition is satisfied.\n",
      "Function evaluations 507, initial cost 1.2946e+02, final cost 8.5136e+01, first-order optimality 2.91e-03.\n",
      "\n",
      "Fit results: \n",
      "\n",
      "1548.2\t -0.000160\t 13.496\t 4.0000\t 1.6322\n",
      " \t  \t  \t 0.579\t 4.878\t 5.717 \n",
      "\n",
      "1550.78\t -0.000160\t 13.496\t 4.0000\t 1.6322\n",
      " \t  \t  \t 0.0\t 0.0\t 0.0 \n",
      "\n",
      "1548.2\t 0.000250\t 14.126\t 49.492\t -52.041\n",
      " \t  \t  \t 0.063\t 9.986\t 6.687 \n",
      "\n",
      "1550.78\t 0.000250\t 14.126\t 49.492\t -52.041\n",
      " \t  \t  \t 0.0\t 0.0\t 0.0 \n",
      "\n",
      "1548.2\t 0.002550\t 13.650\t 5.3002\t -4.2306\n",
      " \t  \t  \t 0.61\t 5.278\t 3.866 \n",
      "\n",
      "1550.78\t 0.002550\t 13.650\t 5.3002\t -4.2306\n",
      " \t  \t  \t 0.0\t 0.0\t 0.0 \n",
      "\n",
      "1548.2\t 0.002860\t 13.791\t 52.300\t -27.086\n",
      " \t  \t  \t 0.132\t 23.021\t 13.681 \n",
      "\n",
      "1550.78\t 0.002860\t 13.791\t 52.300\t -27.086\n",
      " \t  \t  \t 0.0\t 0.0\t 0.0 \n",
      "\n",
      "1548.2\t 0.003150\t 13.040\t 4.0000\t -17.35\n",
      " \t  \t  \t 0.573\t 13.301\t 10.917 \n",
      "\n",
      "1550.78\t 0.003150\t 13.040\t 4.0000\t -17.35\n",
      " \t  \t  \t 0.0\t 0.0\t 0.0 \n",
      "\n",
      "\n",
      "Reduced chi-squared: 0.910542\n",
      "Iteration 1 -\n",
      "Fit converged after 1 outer iterations.\n",
      "VPmeasure: Fit converged: component_groups/input_group_4.txt\n",
      "Line parameters written to:\n",
      "component_groups/input_group_4.VP\n",
      "Wrote spectrum to component_groups/input_group_4_VPmodel.fits\n",
      "Loading abundances from Asplund2009\n",
      "Abundances are relative by number on a logarithmic scale with H=12\n"
     ]
    },
    {
     "name": "stderr",
     "output_type": "stream",
     "text": [
      "WARNING: AstropyDeprecationWarning: The truth value of a Quantity is ambiguous. In the future this will raise a ValueError. [astropy.units.quantity]\n",
      "WARNING: AstropyDeprecationWarning: The truth value of a Quantity is ambiguous. In the future this will raise a ValueError. [astropy.units.quantity]\n",
      "WARNING: AstropyDeprecationWarning: The truth value of a Quantity is ambiguous. In the future this will raise a ValueError. [astropy.units.quantity]\n",
      "WARNING: AstropyDeprecationWarning: The truth value of a Quantity is ambiguous. In the future this will raise a ValueError. [astropy.units.quantity]\n",
      "WARNING: AstropyDeprecationWarning: The truth value of a Quantity is ambiguous. In the future this will raise a ValueError. [astropy.units.quantity]\n"
     ]
    },
    {
     "name": "stdout",
     "output_type": "stream",
     "text": [
      "Wrote spectrum to component_groups/input_group_4_inspect.fits\n",
      "\n",
      "VPmeasure: 6/7 fits converged, 0/7 failed (see log for details).\n",
      "\n",
      "VPmeasure: concatenating individual outputs and creating figures for inspection.\n",
      "Loading abundances from Asplund2009\n",
      "Abundances are relative by number on a logarithmic scale with H=12\n"
     ]
    },
    {
     "name": "stderr",
     "output_type": "stream",
     "text": [
      "/Users/samgarza/linetools/linetools/spectra/lsf.py:551: UserWarning: LSF may result from extrapolation outside wavelength range characterized for current grating.\n",
      "  \"LSF may result from extrapolation outside wavelength range characterized for current grating.\")\n",
      "WARNING: AstropyDeprecationWarning: The truth value of a Quantity is ambiguous. In the future this will raise a ValueError. [astropy.units.quantity]\n",
      "/Users/samgarza/opt/anaconda3/lib/python3.7/site-packages/astropy/table/column.py:1157: FutureWarning: elementwise comparison failed; returning scalar instead, but in the future will perform elementwise comparison\n",
      "  result = getattr(super(), op)(other)\n",
      "/Users/samgarza/opt/anaconda3/lib/python3.7/site-packages/astropy/table/column.py:1157: FutureWarning: elementwise comparison failed; returning scalar instead, but in the future will perform elementwise comparison\n",
      "  result = getattr(super(), op)(other)\n",
      "WARNING: AstropyDeprecationWarning: The truth value of a Quantity is ambiguous. In the future this will raise a ValueError. [astropy.units.quantity]\n",
      "/Users/samgarza/opt/anaconda3/lib/python3.7/site-packages/astropy/table/column.py:1157: FutureWarning: elementwise comparison failed; returning scalar instead, but in the future will perform elementwise comparison\n",
      "  result = getattr(super(), op)(other)\n",
      "WARNING: AstropyDeprecationWarning: The truth value of a Quantity is ambiguous. In the future this will raise a ValueError. [astropy.units.quantity]\n",
      "/Users/samgarza/opt/anaconda3/lib/python3.7/site-packages/astropy/table/column.py:1157: FutureWarning: elementwise comparison failed; returning scalar instead, but in the future will perform elementwise comparison\n",
      "  result = getattr(super(), op)(other)\n",
      "/Users/samgarza/opt/anaconda3/lib/python3.7/site-packages/astropy/table/column.py:1157: FutureWarning: elementwise comparison failed; returning scalar instead, but in the future will perform elementwise comparison\n",
      "  result = getattr(super(), op)(other)\n",
      "WARNING: AstropyDeprecationWarning: The truth value of a Quantity is ambiguous. In the future this will raise a ValueError. [astropy.units.quantity]\n",
      "/Users/samgarza/opt/anaconda3/lib/python3.7/site-packages/astropy/table/column.py:1157: FutureWarning: elementwise comparison failed; returning scalar instead, but in the future will perform elementwise comparison\n",
      "  result = getattr(super(), op)(other)\n",
      "WARNING: AstropyDeprecationWarning: The truth value of a Quantity is ambiguous. In the future this will raise a ValueError. [astropy.units.quantity]\n",
      "/Users/samgarza/opt/anaconda3/lib/python3.7/site-packages/astropy/table/column.py:1157: FutureWarning: elementwise comparison failed; returning scalar instead, but in the future will perform elementwise comparison\n",
      "  result = getattr(super(), op)(other)\n",
      "/Users/samgarza/opt/anaconda3/lib/python3.7/site-packages/astropy/table/column.py:1157: FutureWarning: elementwise comparison failed; returning scalar instead, but in the future will perform elementwise comparison\n",
      "  result = getattr(super(), op)(other)\n",
      "WARNING: AstropyDeprecationWarning: The truth value of a Quantity is ambiguous. In the future this will raise a ValueError. [astropy.units.quantity]\n",
      "/Users/samgarza/opt/anaconda3/lib/python3.7/site-packages/astropy/table/column.py:1157: FutureWarning: elementwise comparison failed; returning scalar instead, but in the future will perform elementwise comparison\n",
      "  result = getattr(super(), op)(other)\n",
      "/Users/samgarza/opt/anaconda3/lib/python3.7/site-packages/astropy/table/column.py:1157: FutureWarning: elementwise comparison failed; returning scalar instead, but in the future will perform elementwise comparison\n",
      "  result = getattr(super(), op)(other)\n",
      "WARNING: AstropyDeprecationWarning: The truth value of a Quantity is ambiguous. In the future this will raise a ValueError. [astropy.units.quantity]\n",
      "/Users/samgarza/opt/anaconda3/lib/python3.7/site-packages/astropy/table/column.py:1157: FutureWarning: elementwise comparison failed; returning scalar instead, but in the future will perform elementwise comparison\n",
      "  result = getattr(super(), op)(other)\n",
      "WARNING: AstropyDeprecationWarning: The truth value of a Quantity is ambiguous. In the future this will raise a ValueError. [astropy.units.quantity]\n",
      "/Users/samgarza/opt/anaconda3/lib/python3.7/site-packages/astropy/table/column.py:1157: FutureWarning: elementwise comparison failed; returning scalar instead, but in the future will perform elementwise comparison\n",
      "  result = getattr(super(), op)(other)\n",
      "WARNING: AstropyDeprecationWarning: The truth value of a Quantity is ambiguous. In the future this will raise a ValueError. [astropy.units.quantity]\n",
      "/Users/samgarza/opt/anaconda3/lib/python3.7/site-packages/astropy/table/column.py:1157: FutureWarning: elementwise comparison failed; returning scalar instead, but in the future will perform elementwise comparison\n",
      "  result = getattr(super(), op)(other)\n",
      "WARNING: AstropyDeprecationWarning: The truth value of a Quantity is ambiguous. In the future this will raise a ValueError. [astropy.units.quantity]\n",
      "/Users/samgarza/opt/anaconda3/lib/python3.7/site-packages/astropy/table/column.py:1157: FutureWarning: elementwise comparison failed; returning scalar instead, but in the future will perform elementwise comparison\n",
      "  result = getattr(super(), op)(other)\n",
      "/Users/samgarza/opt/anaconda3/lib/python3.7/site-packages/astropy/table/column.py:1157: FutureWarning: elementwise comparison failed; returning scalar instead, but in the future will perform elementwise comparison\n",
      "  result = getattr(super(), op)(other)\n",
      "WARNING: AstropyDeprecationWarning: The truth value of a Quantity is ambiguous. In the future this will raise a ValueError. [astropy.units.quantity]\n",
      "/Users/samgarza/opt/anaconda3/lib/python3.7/site-packages/astropy/table/column.py:1157: FutureWarning: elementwise comparison failed; returning scalar instead, but in the future will perform elementwise comparison\n",
      "  result = getattr(super(), op)(other)\n",
      "/Users/samgarza/opt/anaconda3/lib/python3.7/site-packages/astropy/table/column.py:1157: FutureWarning: elementwise comparison failed; returning scalar instead, but in the future will perform elementwise comparison\n",
      "  result = getattr(super(), op)(other)\n",
      "WARNING: AstropyDeprecationWarning: The truth value of a Quantity is ambiguous. In the future this will raise a ValueError. [astropy.units.quantity]\n",
      "/Users/samgarza/opt/anaconda3/lib/python3.7/site-packages/astropy/table/column.py:1157: FutureWarning: elementwise comparison failed; returning scalar instead, but in the future will perform elementwise comparison\n",
      "  result = getattr(super(), op)(other)\n",
      "/Users/samgarza/opt/anaconda3/lib/python3.7/site-packages/astropy/table/column.py:1157: FutureWarning: elementwise comparison failed; returning scalar instead, but in the future will perform elementwise comparison\n",
      "  result = getattr(super(), op)(other)\n",
      "WARNING: AstropyDeprecationWarning: The truth value of a Quantity is ambiguous. In the future this will raise a ValueError. [astropy.units.quantity]\n"
     ]
    },
    {
     "name": "stdout",
     "output_type": "stream",
     "text": [
      "Wrote spectrum to FitInspection.fits\n",
      "VPmeasure: Done.\n"
     ]
    },
    {
     "name": "stderr",
     "output_type": "stream",
     "text": [
      "/Users/samgarza/opt/anaconda3/lib/python3.7/site-packages/astropy/table/column.py:1157: FutureWarning: elementwise comparison failed; returning scalar instead, but in the future will perform elementwise comparison\n",
      "  result = getattr(super(), op)(other)\n",
      "/Users/samgarza/opt/anaconda3/lib/python3.7/site-packages/astropy/table/column.py:1157: FutureWarning: elementwise comparison failed; returning scalar instead, but in the future will perform elementwise comparison\n",
      "  result = getattr(super(), op)(other)\n",
      "/Users/samgarza/opt/anaconda3/lib/python3.7/site-packages/astropy/table/column.py:1157: FutureWarning: elementwise comparison failed; returning scalar instead, but in the future will perform elementwise comparison\n",
      "  result = getattr(super(), op)(other)\n",
      "/Users/samgarza/opt/anaconda3/lib/python3.7/site-packages/astropy/table/column.py:1157: FutureWarning: elementwise comparison failed; returning scalar instead, but in the future will perform elementwise comparison\n",
      "  result = getattr(super(), op)(other)\n"
     ]
    }
   ],
   "source": [
    "###--- Step 3: Run the fit\n",
    "VPmeasure.batch_fit(norm_path, filelist=to_do, filepath='./component_groups/')"
   ]
  },
  {
   "cell_type": "code",
   "execution_count": 8,
   "id": "f78135bf-58dc-4f22-ad0f-aef00471abe9",
   "metadata": {},
   "outputs": [],
   "source": [
    "#make the directory to hold creates files for each qso/LOS \n",
    "\n",
    "parent_path = '/Users/samgarza/Dropbox/Mac/Documents/COS-Holes/veeper_and_voigt/' #where I want the created files to be put in general \n",
    "qso_name = 'J1123/' #need to change this to match each QSO LOS name; where I want the created files to be put in specifically \n",
    "\n",
    "#set directory name\n",
    "directory = qso_name\n",
    "# Path\n",
    "path = os.path.join(parent_path, directory)\n",
    "#Make it happen\n",
    "os.mkdir(path)"
   ]
  },
  {
   "cell_type": "code",
   "execution_count": null,
   "id": "bcfa61bc-5931-49c4-b55b-6100c9506891",
   "metadata": {},
   "outputs": [],
   "source": [
    "#Step 4: Collate\n",
    "import pandas as pd\n",
    "\n",
    "vp_file_list = glob.glob('component_groups/*.VP')\n",
    "vp_file_list"
   ]
  },
  {
   "cell_type": "code",
   "execution_count": null,
   "id": "9e0bf098-b4c3-46a8-88fc-f349406e2601",
   "metadata": {},
   "outputs": [],
   "source": [
    "vp_dfs = []\n",
    "\n",
    "for vp_file in vp_file_list:\n",
    "    vp_df = pd.read_csv(vp_file, sep='|')\n",
    "    vp_dfs.append(vp_df)\n",
    "    \n",
    "all_vp_df = pd.concat(vp_dfs, ignore_index=True)\n",
    "all_vp_df"
   ]
  },
  {
   "cell_type": "code",
   "execution_count": null,
   "id": "c5936eb9-4d70-4229-af68-ace16d25e019",
   "metadata": {},
   "outputs": [],
   "source": [
    "#Save collate informtion to csv file \n",
    "all_vp_df.to_csv(path + 'all_vp.csv')"
   ]
  },
  {
   "cell_type": "code",
   "execution_count": null,
   "id": "d33d1302-12ad-467e-b31a-cd2c09b6d866",
   "metadata": {},
   "outputs": [],
   "source": [
    "import shutil\n",
    "\n",
    "#Move over the component_groups\n",
    "shutil.move(parent_path + 'component_groups/', path)"
   ]
  },
  {
   "cell_type": "code",
   "execution_count": null,
   "id": "c7cbbc42-80c0-46c4-ab31-f6a81790ab1a",
   "metadata": {},
   "outputs": [],
   "source": [
    "#list of created files that need to be moved over to QSO LOS specific directory \n",
    "files_to_move = ['_VP_log.dat', 'all_VP.txt', 'compiledVPoutputs.dat', 'FitInspection.fits', 'FitInspection.pdf']\n",
    "\n",
    "# iterate files\n",
    "for file in files_to_move:\n",
    "    # construct full file path\n",
    "    source = parent_path + file\n",
    "    destination = path + file\n",
    "    # move file\n",
    "    shutil.move(source, destination)\n",
    "    print('Moved:', file)"
   ]
  },
  {
   "cell_type": "code",
   "execution_count": null,
   "id": "d47af6e0-738b-4f03-8f96-0712ed367f89",
   "metadata": {},
   "outputs": [],
   "source": []
  }
 ],
 "metadata": {
  "kernelspec": {
   "display_name": "Python 3 (ipykernel)",
   "language": "python",
   "name": "python3"
  },
  "language_info": {
   "codemirror_mode": {
    "name": "ipython",
    "version": 3
   },
   "file_extension": ".py",
   "mimetype": "text/x-python",
   "name": "python",
   "nbconvert_exporter": "python",
   "pygments_lexer": "ipython3",
   "version": "3.7.4"
  }
 },
 "nbformat": 4,
 "nbformat_minor": 5
}
